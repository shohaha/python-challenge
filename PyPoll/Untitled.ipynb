{
 "cells": [
  {
   "cell_type": "code",
   "execution_count": 14,
   "metadata": {},
   "outputs": [],
   "source": [
    "import pandas as pd\n",
    "import os\n",
    "import csv"
   ]
  },
  {
   "cell_type": "code",
   "execution_count": 15,
   "metadata": {},
   "outputs": [],
   "source": [
    "# Reference and Read the csv file as a DataFrame\n",
    "file_path = \"Downloads/election_data.csv\""
   ]
  },
  {
   "cell_type": "code",
   "execution_count": 16,
   "metadata": {},
   "outputs": [],
   "source": [
    "out_file = \"/Documents/Py Poll.txt\""
   ]
  },
  {
   "cell_type": "code",
   "execution_count": 17,
   "metadata": {},
   "outputs": [],
   "source": [
    "# Create an empty list to store vote counts as percent\n",
    "percent_count = []"
   ]
  },
  {
   "cell_type": "code",
   "execution_count": 18,
   "metadata": {},
   "outputs": [
    {
     "ename": "NameError",
     "evalue": "name 'df_ed' is not defined",
     "output_type": "error",
     "traceback": [
      "\u001b[0;31m---------------------------------------------------------------------------\u001b[0m",
      "\u001b[0;31mNameError\u001b[0m                                 Traceback (most recent call last)",
      "\u001b[0;32m<ipython-input-18-75bb805d4148>\u001b[0m in \u001b[0;36m<module>\u001b[0;34m\u001b[0m\n\u001b[1;32m      1\u001b[0m \u001b[0;31m# Create a list of unique(distinct) candidates\u001b[0m\u001b[0;34m\u001b[0m\u001b[0;34m\u001b[0m\u001b[0;34m\u001b[0m\u001b[0m\n\u001b[0;32m----> 2\u001b[0;31m \u001b[0mcandidates\u001b[0m \u001b[0;34m=\u001b[0m \u001b[0mlist\u001b[0m\u001b[0;34m(\u001b[0m\u001b[0mdf_ed\u001b[0m\u001b[0;34m[\u001b[0m\u001b[0;34m\"Candidate\"\u001b[0m\u001b[0;34m]\u001b[0m\u001b[0;34m.\u001b[0m\u001b[0munique\u001b[0m\u001b[0;34m(\u001b[0m\u001b[0;34m)\u001b[0m\u001b[0;34m)\u001b[0m\u001b[0;34m\u001b[0m\u001b[0;34m\u001b[0m\u001b[0m\n\u001b[0m",
      "\u001b[0;31mNameError\u001b[0m: name 'df_ed' is not defined"
     ]
    }
   ],
   "source": [
    "# Create a list of unique(distinct) candidates\n",
    "candidates = list(df_ed[\"Candidate\"].unique())"
   ]
  },
  {
   "cell_type": "code",
   "execution_count": null,
   "metadata": {},
   "outputs": [],
   "source": [
    "# Count the number of times the candidate appears and put into a list\n",
    "counts = list(df_ed['Candidate'].value_counts())"
   ]
  },
  {
   "cell_type": "code",
   "execution_count": null,
   "metadata": {},
   "outputs": [],
   "source": [
    "# Get the total vote count\n",
    "total_votes = sum(counts)"
   ]
  },
  {
   "cell_type": "code",
   "execution_count": null,
   "metadata": {},
   "outputs": [],
   "source": [
    "# Set variable for for loop\n",
    "x = 0"
   ]
  },
  {
   "cell_type": "code",
   "execution_count": null,
   "metadata": {},
   "outputs": [],
   "source": [
    "# Loop to calculate percentages\n",
    "for candidate in candidates:\n",
    "    percentage = round(counts[x]/total_votes,3)\n",
    "    percentage=\"{:.3%}\".format(percentage)\n",
    "    percent_count.append(percentage)\n",
    "    x+=1"
   ]
  },
  {
   "cell_type": "code",
   "execution_count": null,
   "metadata": {},
   "outputs": [],
   "source": [
    "# Create a zipped list of data to rebuild data frame\n",
    "data = list(zip(candidates, percent_count, counts))"
   ]
  },
  {
   "cell_type": "code",
   "execution_count": null,
   "metadata": {},
   "outputs": [],
   "source": [
    "# Calculate counts to find winner\n",
    "max_count = df_ed['Candidate'].value_counts()"
   ]
  },
  {
   "cell_type": "code",
   "execution_count": null,
   "metadata": {},
   "outputs": [],
   "source": [
    "# Find the most counts\n",
    "winner_count = max_count.max()"
   ]
  },
  {
   "cell_type": "code",
   "execution_count": null,
   "metadata": {},
   "outputs": [],
   "source": [
    "# Put the zipped data into a data frame\n",
    "df_data = pd.DataFrame(data)"
   ]
  },
  {
   "cell_type": "code",
   "execution_count": null,
   "metadata": {},
   "outputs": [],
   "source": [
    "# Search the data frame for the candidate with the most counts put it into a list\n",
    "winner = list(df_data.loc[df_data[2]== winner_count,0])"
   ]
  },
  {
   "cell_type": "code",
   "execution_count": null,
   "metadata": {},
   "outputs": [],
   "source": [
    "# Rename the columns for df_data\n",
    "sorted_data =df_data.columns =[\"Candidate |\", \"Percent of Votes |\", \"Vote Count\"]"
   ]
  },
  {
   "cell_type": "code",
   "execution_count": null,
   "metadata": {},
   "outputs": [],
   "source": [
    "# Sort the columns by vote count in descending order for clean output\n",
    "sorted_data = df_data.sort_values(\"Vote Count\", ascending = False )"
   ]
  },
  {
   "cell_type": "code",
   "execution_count": null,
   "metadata": {},
   "outputs": [],
   "source": [
    "# Print the output into console\n",
    "print(\"Election Results\")\n",
    "print(\" -------------------------\")\n",
    "print(f\"Total Votes: {total_votes}\")\n",
    "print(\"--------------------------\")\n",
    "print(f\"{sorted_data}\")\n",
    "print(f\" -------------------------\")\n",
    "print(f\"Winner: {winner}\")\n",
    "print(f\"-------------------------\")"
   ]
  },
  {
   "cell_type": "code",
   "execution_count": null,
   "metadata": {},
   "outputs": [],
   "source": [
    "# Write the outcome data to a txt file named election_winner\n",
    " \n",
    "election_winner = open(\"election_winner.txt\",\"w\")\n",
    " \n",
    "election_winner.write(\"Election Results\\n\")\n",
    "election_winner.write(\"----------------------------\\n\")\n",
    "election_winner.write(f\"Total Votes: {total_votes}\\n\")\n",
    "election_winner.write(f\"--------------------------\\n\")\n",
    "election_winner.write(f\"{sorted_data}\\n\")\n",
    "election_winner.write(f\" -------------------------\\n\")\n",
    "election_winner.write(f\"Winner: {winner}\\n\")\n",
    "election_winner.write(f\"-------------------------\")\n",
    " \n",
    "election_winner.close()"
   ]
  }
 ],
 "metadata": {
  "kernelspec": {
   "display_name": "PythonData",
   "language": "python",
   "name": "pythondata"
  },
  "language_info": {
   "codemirror_mode": {
    "name": "ipython",
    "version": 3
   },
   "file_extension": ".py",
   "mimetype": "text/x-python",
   "name": "python",
   "nbconvert_exporter": "python",
   "pygments_lexer": "ipython3",
   "version": "3.7.11"
  }
 },
 "nbformat": 4,
 "nbformat_minor": 4
}
